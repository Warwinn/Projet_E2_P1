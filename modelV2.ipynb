{
 "cells": [
  {
   "cell_type": "code",
   "execution_count": 5,
   "metadata": {},
   "outputs": [],
   "source": [
    "import pandas as pd\n",
    "from sklearn.model_selection import train_test_split\n"
   ]
  },
  {
   "cell_type": "code",
   "execution_count": 6,
   "metadata": {},
   "outputs": [
    {
     "name": "stdout",
     "output_type": "stream",
     "text": [
      "Dimention des set: \n",
      " train : (2373, 82) \n",
      " validate : (264, 82) \n",
      " test : (293, 82) \n"
     ]
    }
   ],
   "source": [
    "# Load data\n",
    "data = pd.read_csv('data/row/AmesHousing.csv',sep='\\t')\n",
    "pre_train, test = train_test_split (data , test_size = 0.1)\n",
    "train, validate = train_test_split (pre_train , test_size = 0.1)\n",
    "print(f\"Dimention des set: \\n train : {train.shape} \\n validate : {validate.shape} \\n test : {test.shape} \")"
   ]
  },
  {
   "cell_type": "code",
   "execution_count": null,
   "metadata": {},
   "outputs": [],
   "source": []
  }
 ],
 "metadata": {
  "interpreter": {
   "hash": "9e3bd8a8824a97ad39e0ae687c64e3df6a9be90a6ac105a9e550d5caf9b038cd"
  },
  "kernelspec": {
   "display_name": "Python 3.8.10 64-bit ('P1_env': venv)",
   "language": "python",
   "name": "python3"
  },
  "language_info": {
   "codemirror_mode": {
    "name": "ipython",
    "version": 3
   },
   "file_extension": ".py",
   "mimetype": "text/x-python",
   "name": "python",
   "nbconvert_exporter": "python",
   "pygments_lexer": "ipython3",
   "version": "3.8.10"
  },
  "orig_nbformat": 4
 },
 "nbformat": 4,
 "nbformat_minor": 2
}
